{
  "nbformat": 4,
  "nbformat_minor": 0,
  "metadata": {
    "colab": {
      "name": "Python_Screening_Assignment.ipynb",
      "provenance": []
    },
    "kernelspec": {
      "name": "python3",
      "display_name": "Python 3"
    },
    "language_info": {
      "name": "python"
    }
  },
  "cells": [
    {
      "cell_type": "code",
      "source": [
        "# Q1)1. Create a function in python to read the text file and replace specific content\n",
        "# of the file.\n",
        "\n",
        "# File name example.txt\n",
        "# Origin file content This is a placement assignment\n",
        "# Replace string Placement should be replaced by\n",
        "\n",
        "# screening.\n",
        "\n",
        "# Replaced file content This is a screening assignment\n",
        "\n",
        "\n",
        "f = open(\"example.txt\", \"r+\")\n",
        "print(f.read())\n",
        "\n",
        "with open('example.txt', 'r+') as file :\n",
        "  filedata = file.read()\n",
        "\n",
        "filedata1 = filedata.replace('placement', 'screening')\n",
        "\n",
        "with open('example.txt', 'w+') as file:\n",
        "  file.write(filedata1)\n",
        "\n",
        "f = open(\"example.txt\", \"r+\")\n",
        "print(f.read())\n"
      ],
      "metadata": {
        "id": "xJzKGTlRDUDa",
        "outputId": "4679412b-461a-4c27-e662-f6409ea7c1b5",
        "colab": {
          "base_uri": "https://localhost:8080/"
        }
      },
      "execution_count": 24,
      "outputs": [
        {
          "output_type": "stream",
          "name": "stdout",
          "text": [
            "This is placement assignment\n",
            "This is screening assignment\n"
          ]
        }
      ]
    }
  ]
}